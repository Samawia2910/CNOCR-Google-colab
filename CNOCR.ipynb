{
  "nbformat": 4,
  "nbformat_minor": 0,
  "metadata": {
    "colab": {
      "provenance": []
    },
    "kernelspec": {
      "name": "python3",
      "display_name": "Python 3"
    },
    "language_info": {
      "name": "python"
    },
    "accelerator": "GPU",
    "gpuClass": "standard"
  },
  "cells": [
    {
      "cell_type": "code",
      "source": [
        "!pip install cnocr"
      ],
      "metadata": {
        "colab": {
          "base_uri": "https://localhost:8080/"
        },
        "id": "CF_32_2J3C4Y",
        "outputId": "b9b5d4c2-acf9-4e45-9ae0-59718d1992db"
      },
      "execution_count": null,
      "outputs": [
        {
          "output_type": "stream",
          "name": "stdout",
          "text": [
            "Looking in indexes: https://pypi.org/simple, https://us-python.pkg.dev/colab-wheels/public/simple/\n",
            "Requirement already satisfied: cnocr in /usr/local/lib/python3.8/dist-packages (2.2.2.1)\n",
            "Requirement already satisfied: click in /usr/local/lib/python3.8/dist-packages (from cnocr) (7.1.2)\n",
            "Requirement already satisfied: cnstd>=1.2 in /usr/local/lib/python3.8/dist-packages (from cnocr) (1.2.1)\n",
            "Requirement already satisfied: pillow>=5.3.0 in /usr/local/lib/python3.8/dist-packages (from cnocr) (7.1.2)\n",
            "Requirement already satisfied: torchmetrics in /usr/local/lib/python3.8/dist-packages (from cnocr) (0.11.1)\n",
            "Requirement already satisfied: torchvision<0.14,>=0.9.0 in /usr/local/lib/python3.8/dist-packages (from cnocr) (0.13.1)\n",
            "Requirement already satisfied: pytorch-lightning>=1.6.0 in /usr/local/lib/python3.8/dist-packages (from cnocr) (1.9.0)\n",
            "Requirement already satisfied: numpy in /usr/local/lib/python3.8/dist-packages (from cnocr) (1.21.6)\n",
            "Requirement already satisfied: tqdm in /usr/local/lib/python3.8/dist-packages (from cnocr) (4.64.1)\n",
            "Requirement already satisfied: onnx in /usr/local/lib/python3.8/dist-packages (from cnocr) (1.13.0)\n",
            "Requirement already satisfied: torch<1.13,>=1.8.0 in /usr/local/lib/python3.8/dist-packages (from cnocr) (1.12.1)\n",
            "Requirement already satisfied: onnxruntime in /usr/local/lib/python3.8/dist-packages (from cnocr) (1.13.1)\n",
            "Requirement already satisfied: scipy in /usr/local/lib/python3.8/dist-packages (from cnstd>=1.2->cnocr) (1.7.3)\n",
            "Requirement already satisfied: pyyaml in /usr/local/lib/python3.8/dist-packages (from cnstd>=1.2->cnocr) (6.0)\n",
            "Requirement already satisfied: pyclipper in /usr/local/lib/python3.8/dist-packages (from cnstd>=1.2->cnocr) (1.3.0.post4)\n",
            "Requirement already satisfied: matplotlib in /usr/local/lib/python3.8/dist-packages (from cnstd>=1.2->cnocr) (3.2.2)\n",
            "Requirement already satisfied: opencv-python>=4.0.0 in /usr/local/lib/python3.8/dist-packages (from cnstd>=1.2->cnocr) (4.6.0.66)\n",
            "Requirement already satisfied: unidecode in /usr/local/lib/python3.8/dist-packages (from cnstd>=1.2->cnocr) (1.3.6)\n",
            "Requirement already satisfied: shapely in /usr/local/lib/python3.8/dist-packages (from cnstd>=1.2->cnocr) (2.0.1)\n",
            "Requirement already satisfied: pandas in /usr/local/lib/python3.8/dist-packages (from cnstd>=1.2->cnocr) (1.3.5)\n",
            "Requirement already satisfied: Polygon3 in /usr/local/lib/python3.8/dist-packages (from cnstd>=1.2->cnocr) (3.0.9.1)\n",
            "Requirement already satisfied: seaborn in /usr/local/lib/python3.8/dist-packages (from cnstd>=1.2->cnocr) (0.11.2)\n",
            "Requirement already satisfied: fsspec[http]>2021.06.0 in /usr/local/lib/python3.8/dist-packages (from pytorch-lightning>=1.6.0->cnocr) (2023.1.0)\n",
            "Requirement already satisfied: typing-extensions>=4.0.0 in /usr/local/lib/python3.8/dist-packages (from pytorch-lightning>=1.6.0->cnocr) (4.4.0)\n",
            "Requirement already satisfied: packaging>=17.1 in /usr/local/lib/python3.8/dist-packages (from pytorch-lightning>=1.6.0->cnocr) (23.0)\n",
            "Requirement already satisfied: lightning-utilities>=0.4.2 in /usr/local/lib/python3.8/dist-packages (from pytorch-lightning>=1.6.0->cnocr) (0.6.0.post0)\n",
            "Requirement already satisfied: requests in /usr/local/lib/python3.8/dist-packages (from torchvision<0.14,>=0.9.0->cnocr) (2.25.1)\n",
            "Requirement already satisfied: protobuf<4,>=3.20.2 in /usr/local/lib/python3.8/dist-packages (from onnx->cnocr) (3.20.3)\n",
            "Requirement already satisfied: coloredlogs in /usr/local/lib/python3.8/dist-packages (from onnxruntime->cnocr) (15.0.1)\n",
            "Requirement already satisfied: sympy in /usr/local/lib/python3.8/dist-packages (from onnxruntime->cnocr) (1.7.1)\n",
            "Requirement already satisfied: flatbuffers in /usr/local/lib/python3.8/dist-packages (from onnxruntime->cnocr) (1.12)\n",
            "Requirement already satisfied: aiohttp!=4.0.0a0,!=4.0.0a1 in /usr/local/lib/python3.8/dist-packages (from fsspec[http]>2021.06.0->pytorch-lightning>=1.6.0->cnocr) (3.8.3)\n",
            "Requirement already satisfied: humanfriendly>=9.1 in /usr/local/lib/python3.8/dist-packages (from coloredlogs->onnxruntime->cnocr) (10.0)\n",
            "Requirement already satisfied: pyparsing!=2.0.4,!=2.1.2,!=2.1.6,>=2.0.1 in /usr/local/lib/python3.8/dist-packages (from matplotlib->cnstd>=1.2->cnocr) (3.0.9)\n",
            "Requirement already satisfied: python-dateutil>=2.1 in /usr/local/lib/python3.8/dist-packages (from matplotlib->cnstd>=1.2->cnocr) (2.8.2)\n",
            "Requirement already satisfied: kiwisolver>=1.0.1 in /usr/local/lib/python3.8/dist-packages (from matplotlib->cnstd>=1.2->cnocr) (1.4.4)\n",
            "Requirement already satisfied: cycler>=0.10 in /usr/local/lib/python3.8/dist-packages (from matplotlib->cnstd>=1.2->cnocr) (0.11.0)\n",
            "Requirement already satisfied: pytz>=2017.3 in /usr/local/lib/python3.8/dist-packages (from pandas->cnstd>=1.2->cnocr) (2022.7.1)\n",
            "Requirement already satisfied: idna<3,>=2.5 in /usr/local/lib/python3.8/dist-packages (from requests->torchvision<0.14,>=0.9.0->cnocr) (2.10)\n",
            "Requirement already satisfied: certifi>=2017.4.17 in /usr/local/lib/python3.8/dist-packages (from requests->torchvision<0.14,>=0.9.0->cnocr) (2022.12.7)\n",
            "Requirement already satisfied: chardet<5,>=3.0.2 in /usr/local/lib/python3.8/dist-packages (from requests->torchvision<0.14,>=0.9.0->cnocr) (4.0.0)\n",
            "Requirement already satisfied: urllib3<1.27,>=1.21.1 in /usr/local/lib/python3.8/dist-packages (from requests->torchvision<0.14,>=0.9.0->cnocr) (1.24.3)\n",
            "Requirement already satisfied: mpmath>=0.19 in /usr/local/lib/python3.8/dist-packages (from sympy->onnxruntime->cnocr) (1.2.1)\n",
            "Requirement already satisfied: charset-normalizer<3.0,>=2.0 in /usr/local/lib/python3.8/dist-packages (from aiohttp!=4.0.0a0,!=4.0.0a1->fsspec[http]>2021.06.0->pytorch-lightning>=1.6.0->cnocr) (2.1.1)\n",
            "Requirement already satisfied: multidict<7.0,>=4.5 in /usr/local/lib/python3.8/dist-packages (from aiohttp!=4.0.0a0,!=4.0.0a1->fsspec[http]>2021.06.0->pytorch-lightning>=1.6.0->cnocr) (6.0.4)\n",
            "Requirement already satisfied: aiosignal>=1.1.2 in /usr/local/lib/python3.8/dist-packages (from aiohttp!=4.0.0a0,!=4.0.0a1->fsspec[http]>2021.06.0->pytorch-lightning>=1.6.0->cnocr) (1.3.1)\n",
            "Requirement already satisfied: attrs>=17.3.0 in /usr/local/lib/python3.8/dist-packages (from aiohttp!=4.0.0a0,!=4.0.0a1->fsspec[http]>2021.06.0->pytorch-lightning>=1.6.0->cnocr) (22.2.0)\n",
            "Requirement already satisfied: async-timeout<5.0,>=4.0.0a3 in /usr/local/lib/python3.8/dist-packages (from aiohttp!=4.0.0a0,!=4.0.0a1->fsspec[http]>2021.06.0->pytorch-lightning>=1.6.0->cnocr) (4.0.2)\n",
            "Requirement already satisfied: yarl<2.0,>=1.0 in /usr/local/lib/python3.8/dist-packages (from aiohttp!=4.0.0a0,!=4.0.0a1->fsspec[http]>2021.06.0->pytorch-lightning>=1.6.0->cnocr) (1.8.2)\n",
            "Requirement already satisfied: frozenlist>=1.1.1 in /usr/local/lib/python3.8/dist-packages (from aiohttp!=4.0.0a0,!=4.0.0a1->fsspec[http]>2021.06.0->pytorch-lightning>=1.6.0->cnocr) (1.3.3)\n",
            "Requirement already satisfied: six>=1.5 in /usr/local/lib/python3.8/dist-packages (from python-dateutil>=2.1->matplotlib->cnstd>=1.2->cnocr) (1.15.0)\n"
          ]
        }
      ]
    }
  ]
}